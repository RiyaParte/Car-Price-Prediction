{
 "cells": [
  {
   "cell_type": "markdown",
   "metadata": {},
   "source": [
    "# CAR PRICE PREDICTION"
   ]
  },
  {
   "cell_type": "markdown",
   "metadata": {},
   "source": [
    "# IMPORTING LIBRARIES"
   ]
  },
  {
   "cell_type": "code",
   "execution_count": 1,
   "metadata": {},
   "outputs": [],
   "source": [
    "import pandas as pd\n",
    "import seaborn as sns\n",
    "import numpy as np\n",
    "import datetime\n",
    "import matplotlib\n",
    "import numpy as np\n",
    "import pickle\n",
    "import matplotlib.pyplot as plt\n",
    "from scipy import stats"
   ]
  },
  {
   "cell_type": "markdown",
   "metadata": {},
   "source": [
    "# LOADING AND VISUALISING THE DATASET"
   ]
  },
  {
   "cell_type": "code",
   "execution_count": 2,
   "metadata": {},
   "outputs": [
    {
     "data": {
      "text/html": [
       "<div>\n",
       "<style scoped>\n",
       "    .dataframe tbody tr th:only-of-type {\n",
       "        vertical-align: middle;\n",
       "    }\n",
       "\n",
       "    .dataframe tbody tr th {\n",
       "        vertical-align: top;\n",
       "    }\n",
       "\n",
       "    .dataframe thead th {\n",
       "        text-align: right;\n",
       "    }\n",
       "</style>\n",
       "<table border=\"1\" class=\"dataframe\">\n",
       "  <thead>\n",
       "    <tr style=\"text-align: right;\">\n",
       "      <th></th>\n",
       "      <th>Unnamed: 0</th>\n",
       "      <th>make</th>\n",
       "      <th>model</th>\n",
       "      <th>priceUSD</th>\n",
       "      <th>year</th>\n",
       "      <th>condition</th>\n",
       "      <th>mileage(kilometers)</th>\n",
       "      <th>fuel_type</th>\n",
       "      <th>volume(cm3)</th>\n",
       "      <th>color</th>\n",
       "      <th>transmission</th>\n",
       "      <th>drive_unit</th>\n",
       "      <th>segment</th>\n",
       "    </tr>\n",
       "  </thead>\n",
       "  <tbody>\n",
       "    <tr>\n",
       "      <th>0</th>\n",
       "      <td>0</td>\n",
       "      <td>honda</td>\n",
       "      <td>accord</td>\n",
       "      <td>565</td>\n",
       "      <td>1993</td>\n",
       "      <td>with mileage</td>\n",
       "      <td>960015.0</td>\n",
       "      <td>petrol</td>\n",
       "      <td>2000.0</td>\n",
       "      <td>black</td>\n",
       "      <td>mechanics</td>\n",
       "      <td>front-wheel drive</td>\n",
       "      <td>D</td>\n",
       "    </tr>\n",
       "    <tr>\n",
       "      <th>1</th>\n",
       "      <td>1</td>\n",
       "      <td>ford</td>\n",
       "      <td>fusion</td>\n",
       "      <td>5550</td>\n",
       "      <td>2008</td>\n",
       "      <td>with mileage</td>\n",
       "      <td>172000.0</td>\n",
       "      <td>diesel</td>\n",
       "      <td>1400.0</td>\n",
       "      <td>silver</td>\n",
       "      <td>mechanics</td>\n",
       "      <td>front-wheel drive</td>\n",
       "      <td>M</td>\n",
       "    </tr>\n",
       "    <tr>\n",
       "      <th>2</th>\n",
       "      <td>2</td>\n",
       "      <td>nissan</td>\n",
       "      <td>teana</td>\n",
       "      <td>8300</td>\n",
       "      <td>2008</td>\n",
       "      <td>with mileage</td>\n",
       "      <td>223000.0</td>\n",
       "      <td>petrol</td>\n",
       "      <td>2500.0</td>\n",
       "      <td>purple</td>\n",
       "      <td>auto</td>\n",
       "      <td>front-wheel drive</td>\n",
       "      <td>D</td>\n",
       "    </tr>\n",
       "    <tr>\n",
       "      <th>3</th>\n",
       "      <td>3</td>\n",
       "      <td>volkswagen</td>\n",
       "      <td>fox</td>\n",
       "      <td>3300</td>\n",
       "      <td>2005</td>\n",
       "      <td>with mileage</td>\n",
       "      <td>140000.0</td>\n",
       "      <td>petrol</td>\n",
       "      <td>1200.0</td>\n",
       "      <td>blue</td>\n",
       "      <td>mechanics</td>\n",
       "      <td>front-wheel drive</td>\n",
       "      <td>A</td>\n",
       "    </tr>\n",
       "    <tr>\n",
       "      <th>4</th>\n",
       "      <td>4</td>\n",
       "      <td>nissan</td>\n",
       "      <td>primera</td>\n",
       "      <td>2450</td>\n",
       "      <td>2002</td>\n",
       "      <td>with damage</td>\n",
       "      <td>413000.0</td>\n",
       "      <td>diesel</td>\n",
       "      <td>2200.0</td>\n",
       "      <td>burgundy</td>\n",
       "      <td>mechanics</td>\n",
       "      <td>front-wheel drive</td>\n",
       "      <td>D</td>\n",
       "    </tr>\n",
       "  </tbody>\n",
       "</table>\n",
       "</div>"
      ],
      "text/plain": [
       "   Unnamed: 0        make    model  priceUSD  year     condition  \\\n",
       "0           0       honda   accord       565  1993  with mileage   \n",
       "1           1        ford   fusion      5550  2008  with mileage   \n",
       "2           2      nissan    teana      8300  2008  with mileage   \n",
       "3           3  volkswagen      fox      3300  2005  with mileage   \n",
       "4           4      nissan  primera      2450  2002   with damage   \n",
       "\n",
       "   mileage(kilometers) fuel_type  volume(cm3)     color transmission  \\\n",
       "0             960015.0    petrol       2000.0     black    mechanics   \n",
       "1             172000.0    diesel       1400.0    silver    mechanics   \n",
       "2             223000.0    petrol       2500.0    purple         auto   \n",
       "3             140000.0    petrol       1200.0      blue    mechanics   \n",
       "4             413000.0    diesel       2200.0  burgundy    mechanics   \n",
       "\n",
       "          drive_unit segment  \n",
       "0  front-wheel drive       D  \n",
       "1  front-wheel drive       M  \n",
       "2  front-wheel drive       D  \n",
       "3  front-wheel drive       A  \n",
       "4  front-wheel drive       D  "
      ]
     },
     "execution_count": 2,
     "metadata": {},
     "output_type": "execute_result"
    }
   ],
   "source": [
    "df = pd.read_csv('cars_price.csv')\n",
    "df.head()"
   ]
  },
  {
   "cell_type": "code",
   "execution_count": 3,
   "metadata": {},
   "outputs": [
    {
     "data": {
      "text/plain": [
       "Index(['Unnamed: 0', 'make', 'model', 'priceUSD', 'year', 'condition',\n",
       "       'mileage(kilometers)', 'fuel_type', 'volume(cm3)', 'color',\n",
       "       'transmission', 'drive_unit', 'segment'],\n",
       "      dtype='object')"
      ]
     },
     "execution_count": 3,
     "metadata": {},
     "output_type": "execute_result"
    }
   ],
   "source": [
    "df.columns"
   ]
  },
  {
   "cell_type": "code",
   "execution_count": 4,
   "metadata": {},
   "outputs": [
    {
     "name": "stdout",
     "output_type": "stream",
     "text": [
      "<class 'pandas.core.frame.DataFrame'>\n",
      "RangeIndex: 40000 entries, 0 to 39999\n",
      "Data columns (total 13 columns):\n",
      " #   Column               Non-Null Count  Dtype  \n",
      "---  ------               --------------  -----  \n",
      " 0   Unnamed: 0           40000 non-null  int64  \n",
      " 1   make                 40000 non-null  object \n",
      " 2   model                40000 non-null  object \n",
      " 3   priceUSD             40000 non-null  int64  \n",
      " 4   year                 40000 non-null  int64  \n",
      " 5   condition            40000 non-null  object \n",
      " 6   mileage(kilometers)  40000 non-null  float64\n",
      " 7   fuel_type            40000 non-null  object \n",
      " 8   volume(cm3)          39970 non-null  float64\n",
      " 9   color                40000 non-null  object \n",
      " 10  transmission         40000 non-null  object \n",
      " 11  drive_unit           38655 non-null  object \n",
      " 12  segment              36245 non-null  object \n",
      "dtypes: float64(2), int64(3), object(8)\n",
      "memory usage: 4.0+ MB\n"
     ]
    }
   ],
   "source": [
    "df.info()"
   ]
  },
  {
   "cell_type": "markdown",
   "metadata": {},
   "source": [
    "# ANALYSING TARGET ATTRIBUTE"
   ]
  },
  {
   "cell_type": "code",
   "execution_count": 5,
   "metadata": {},
   "outputs": [
    {
     "data": {
      "text/plain": [
       "count     40000.000000\n",
       "mean       7430.383775\n",
       "std        8338.242134\n",
       "min          95.000000\n",
       "25%        2350.000000\n",
       "50%        5350.000000\n",
       "75%        9850.000000\n",
       "max      195000.000000\n",
       "Name: priceUSD, dtype: float64"
      ]
     },
     "execution_count": 5,
     "metadata": {},
     "output_type": "execute_result"
    }
   ],
   "source": [
    "df['priceUSD'].describe()"
   ]
  },
  {
   "cell_type": "code",
   "execution_count": 6,
   "metadata": {},
   "outputs": [
    {
     "name": "stdout",
     "output_type": "stream",
     "text": [
      "Skewness: 5.011810\n",
      "Kurtosis: 53.877239\n"
     ]
    },
    {
     "data": {
      "image/png": "[encoded data removed]",
      "text/plain": [
       "<Figure size 432x288 with 1 Axes>"
      ]
     },
     "metadata": {
      "needs_background": "light"
     },
     "output_type": "display_data"
    }
   ],
   "source": [
    "#skewness and kurtosis\n",
    "sns.distplot(df['priceUSD'])\n",
    "\n",
    "print(\"Skewness: %f\" % df['priceUSD'].skew())\n",
    "print(\"Kurtosis: %f\" % df['priceUSD'].kurt())\n"
   ]
  },
  {
   "cell_type": "markdown",
   "metadata": {},
   "source": [
    "Here we observe that distribution of prices shows a high positive skewness towards left skew > 1. \n",
    "A kurtosis value of 53.8 is extremely high,indicating high presence of outliers in the dataset."
   ]
  },
  {
   "cell_type": "markdown",
   "metadata": {},
   "source": [
    "# ANALYSING RELATIONSHIP WITH NUMERICAL FEATURES "
   ]
  },
  {
   "cell_type": "code",
   "execution_count": 7,
   "metadata": {},
   "outputs": [],
   "source": [
    "def scatter_plot(attrib):\n",
    "    data = pd.concat([df['priceUSD'], df[attrib]], axis=1)\n",
    "    data.plot.scatter(x=attrib, y='priceUSD', ylim=(0,195000))"
   ]
  },
  {
   "cell_type": "code",
   "execution_count": 8,
   "metadata": {},
   "outputs": [
    {
     "data": {
      "image/png": "[encoded data removed]",
      "text/plain": [
       "<Figure size 432x288 with 1 Axes>"
      ]
     },
     "metadata": {
      "needs_background": "light"
     },
     "output_type": "display_data"
    }
   ],
   "source": [
    "# mileage vs price\n",
    "scatter_plot('mileage(kilometers)')"
   ]
  },
  {
   "cell_type": "markdown",
   "metadata": {},
   "source": [
    "Here we observe that as the mileage increases the price decreases. Price and Mileage seem to be in an exponential relationship with negative\n",
    "exponent. Trend is similar to exponential decay."
   ]
  },
  {
   "cell_type": "code",
   "execution_count": 9,
   "metadata": {},
   "outputs": [
    {
     "data": {
      "image/png": "[encoded data removed]",
      "text/plain": [
       "<Figure size 432x288 with 1 Axes>"
      ]
     },
     "metadata": {
      "needs_background": "light"
     },
     "output_type": "display_data"
    }
   ],
   "source": [
    "# year vs price\n",
    "scatter_plot('year')"
   ]
  },
  {
   "cell_type": "markdown",
   "metadata": {},
   "source": [
    "Here we observe that price increases in recent years."
   ]
  },
  {
   "cell_type": "markdown",
   "metadata": {},
   "source": [
    "# ANALYSING RELATIONSHIP WITH CATEGORICAL FEATURES"
   ]
  },
  {
   "cell_type": "code",
   "execution_count": 10,
   "metadata": {},
   "outputs": [],
   "source": [
    "def box_plot(attrib):\n",
    "    data = pd.concat([df['priceUSD'], df[attrib]], axis=1)\n",
    "    f, ax = plt.subplots(figsize=(30, 12))\n",
    "    fig = sns.boxplot(x=attrib, y=\"priceUSD\", data=data)\n",
    "    fig.axis(ymin=0, ymax=195000)"
   ]
  },
  {
   "cell_type": "code",
   "execution_count": 11,
   "metadata": {},
   "outputs": [
    {
     "name": "stdout",
     "output_type": "stream",
     "text": [
      "makers :93\n",
      "models :991\n"
     ]
    }
   ],
   "source": [
    "# Let us check how many unique car makers and models do we have in dataset\n",
    "print(\"makers :\",end=\"\") \n",
    "print(len(df.make.unique()))\n",
    "print(\"models :\",end=\"\") \n",
    "print(len(df.model.unique()))"
   ]
  },
  {
   "cell_type": "code",
   "execution_count": 12,
   "metadata": {},
   "outputs": [
    {
     "data": {
      "image/png": "[encoded data removed]",
      "text/plain": [
       "<Figure size 2160x864 with 1 Axes>"
      ]
     },
     "metadata": {
      "needs_background": "light"
     },
     "output_type": "display_data"
    }
   ],
   "source": [
    "# car_maker vs price \n",
    "box_plot('make')"
   ]
  },
  {
   "cell_type": "markdown",
   "metadata": {},
   "source": [
    "Here we observe there is a correlation between Price and Luxury car manufacturers. Also there is a prevalence of low to medium budget cars in the dataset."
   ]
  },
  {
   "cell_type": "code",
   "execution_count": 13,
   "metadata": {},
   "outputs": [
    {
     "data": {
      "image/png": "[encoded data removed]",
      "text/plain": [
       "<Figure size 432x288 with 1 Axes>"
      ]
     },
     "metadata": {
      "needs_background": "light"
     },
     "output_type": "display_data"
    }
   ],
   "source": [
    "# condition vs price\n",
    "scatter_plot('condition')"
   ]
  },
  {
   "cell_type": "markdown",
   "metadata": {},
   "source": [
    "As expected the price falls if the condition of car is damaged."
   ]
  },
  {
   "cell_type": "code",
   "execution_count": 14,
   "metadata": {},
   "outputs": [
    {
     "data": {
      "image/png": "[encoded data removed]",
      "text/plain": [
       "<Figure size 432x288 with 1 Axes>"
      ]
     },
     "metadata": {
      "needs_background": "light"
     },
     "output_type": "display_data"
    }
   ],
   "source": [
    "#transmission vs price\n",
    "scatter_plot('transmission')"
   ]
  },
  {
   "cell_type": "markdown",
   "metadata": {},
   "source": [
    "Automatic transmission indeed cost more than the manual ones."
   ]
  },
  {
   "cell_type": "code",
   "execution_count": 15,
   "metadata": {},
   "outputs": [
    {
     "data": {
      "text/plain": [
       "<seaborn.axisgrid.FacetGrid at 0x2271659a7c0>"
      ]
     },
     "execution_count": 15,
     "metadata": {},
     "output_type": "execute_result"
    },
    {
     "data": {
      "image/png": "[encoded data removed]",
      "text/plain": [
       "<Figure size 360x360 with 1 Axes>"
      ]
     },
     "metadata": {
      "needs_background": "light"
     },
     "output_type": "display_data"
    }
   ],
   "source": [
    "#segment vs price\n",
    "sns.catplot(x=\"segment\", y=\"priceUSD\", data=df)"
   ]
  },
  {
   "cell_type": "markdown",
   "metadata": {},
   "source": [
    "Here we can observe that segment J,S and E are comparitively costly but almost all other segments have prices uniformly distributed. Here also we can observe presence of some outliers."
   ]
  },
  {
   "cell_type": "code",
   "execution_count": 16,
   "metadata": {},
   "outputs": [
    {
     "data": {
      "image/png": "[encoded data removed]",
      "text/plain": [
       "<Figure size 432x288 with 1 Axes>"
      ]
     },
     "metadata": {
      "needs_background": "light"
     },
     "output_type": "display_data"
    }
   ],
   "source": [
    "#fuel type distribution\n",
    "import matplotlib.pyplot as plt\n",
    "df.groupby('fuel_type')['Unnamed: 0'].nunique().plot(kind = \"bar\")\n",
    "plt.show()\n"
   ]
  },
  {
   "cell_type": "markdown",
   "metadata": {},
   "source": [
    "# DATA PREPROCESSING"
   ]
  },
  {
   "cell_type": "code",
   "execution_count": 17,
   "metadata": {},
   "outputs": [
    {
     "data": {
      "text/plain": [
       "Unnamed: 0                0\n",
       "make                      0\n",
       "model                     0\n",
       "priceUSD                  0\n",
       "year                      0\n",
       "condition                 0\n",
       "mileage(kilometers)       0\n",
       "fuel_type                 0\n",
       "volume(cm3)              30\n",
       "color                     0\n",
       "transmission              0\n",
       "drive_unit             1345\n",
       "segment                3755\n",
       "dtype: int64"
      ]
     },
     "execution_count": 17,
     "metadata": {},
     "output_type": "execute_result"
    }
   ],
   "source": [
    "# Let us deal with missing data values\n",
    "df.isnull().sum()"
   ]
  },
  {
   "cell_type": "code",
   "execution_count": 18,
   "metadata": {},
   "outputs": [
    {
     "data": {
      "text/html": [
       "<div>\n",
       "<style scoped>\n",
       "    .dataframe tbody tr th:only-of-type {\n",
       "        vertical-align: middle;\n",
       "    }\n",
       "\n",
       "    .dataframe tbody tr th {\n",
       "        vertical-align: top;\n",
       "    }\n",
       "\n",
       "    .dataframe thead tr th {\n",
       "        text-align: left;\n",
       "    }\n",
       "\n",
       "    .dataframe thead tr:last-of-type th {\n",
       "        text-align: right;\n",
       "    }\n",
       "</style>\n",
       "<table border=\"1\" class=\"dataframe\">\n",
       "  <thead>\n",
       "    <tr>\n",
       "      <th></th>\n",
       "      <th colspan=\"8\" halign=\"left\">Unnamed: 0</th>\n",
       "      <th colspan=\"2\" halign=\"left\">priceUSD</th>\n",
       "      <th>...</th>\n",
       "      <th colspan=\"2\" halign=\"left\">mileage(kilometers)</th>\n",
       "      <th colspan=\"8\" halign=\"left\">volume(cm3)</th>\n",
       "    </tr>\n",
       "    <tr>\n",
       "      <th></th>\n",
       "      <th>count</th>\n",
       "      <th>mean</th>\n",
       "      <th>std</th>\n",
       "      <th>min</th>\n",
       "      <th>25%</th>\n",
       "      <th>50%</th>\n",
       "      <th>75%</th>\n",
       "      <th>max</th>\n",
       "      <th>count</th>\n",
       "      <th>mean</th>\n",
       "      <th>...</th>\n",
       "      <th>75%</th>\n",
       "      <th>max</th>\n",
       "      <th>count</th>\n",
       "      <th>mean</th>\n",
       "      <th>std</th>\n",
       "      <th>min</th>\n",
       "      <th>25%</th>\n",
       "      <th>50%</th>\n",
       "      <th>75%</th>\n",
       "      <th>max</th>\n",
       "    </tr>\n",
       "    <tr>\n",
       "      <th>fuel_type</th>\n",
       "      <th></th>\n",
       "      <th></th>\n",
       "      <th></th>\n",
       "      <th></th>\n",
       "      <th></th>\n",
       "      <th></th>\n",
       "      <th></th>\n",
       "      <th></th>\n",
       "      <th></th>\n",
       "      <th></th>\n",
       "      <th></th>\n",
       "      <th></th>\n",
       "      <th></th>\n",
       "      <th></th>\n",
       "      <th></th>\n",
       "      <th></th>\n",
       "      <th></th>\n",
       "      <th></th>\n",
       "      <th></th>\n",
       "      <th></th>\n",
       "      <th></th>\n",
       "    </tr>\n",
       "  </thead>\n",
       "  <tbody>\n",
       "    <tr>\n",
       "      <th>diesel</th>\n",
       "      <td>14101.0</td>\n",
       "      <td>19842.621020</td>\n",
       "      <td>11521.372655</td>\n",
       "      <td>1.0</td>\n",
       "      <td>9847.00</td>\n",
       "      <td>19946.0</td>\n",
       "      <td>29701.0</td>\n",
       "      <td>39999.0</td>\n",
       "      <td>14101.0</td>\n",
       "      <td>8546.210056</td>\n",
       "      <td>...</td>\n",
       "      <td>350000.0</td>\n",
       "      <td>9999999.0</td>\n",
       "      <td>14101.0</td>\n",
       "      <td>2156.161123</td>\n",
       "      <td>802.675840</td>\n",
       "      <td>500.0</td>\n",
       "      <td>1900.0</td>\n",
       "      <td>2000.0</td>\n",
       "      <td>2400.0</td>\n",
       "      <td>20000.0</td>\n",
       "    </tr>\n",
       "    <tr>\n",
       "      <th>electrocar</th>\n",
       "      <td>30.0</td>\n",
       "      <td>15130.766667</td>\n",
       "      <td>9388.037923</td>\n",
       "      <td>1080.0</td>\n",
       "      <td>7803.25</td>\n",
       "      <td>15733.0</td>\n",
       "      <td>21357.5</td>\n",
       "      <td>38290.0</td>\n",
       "      <td>30.0</td>\n",
       "      <td>36884.733333</td>\n",
       "      <td>...</td>\n",
       "      <td>69250.0</td>\n",
       "      <td>530000.0</td>\n",
       "      <td>0.0</td>\n",
       "      <td>NaN</td>\n",
       "      <td>NaN</td>\n",
       "      <td>NaN</td>\n",
       "      <td>NaN</td>\n",
       "      <td>NaN</td>\n",
       "      <td>NaN</td>\n",
       "      <td>NaN</td>\n",
       "    </tr>\n",
       "    <tr>\n",
       "      <th>petrol</th>\n",
       "      <td>25869.0</td>\n",
       "      <td>20090.659786</td>\n",
       "      <td>11561.684801</td>\n",
       "      <td>0.0</td>\n",
       "      <td>10106.00</td>\n",
       "      <td>20038.0</td>\n",
       "      <td>30174.0</td>\n",
       "      <td>39998.0</td>\n",
       "      <td>25869.0</td>\n",
       "      <td>6787.997255</td>\n",
       "      <td>...</td>\n",
       "      <td>294000.0</td>\n",
       "      <td>9999999.0</td>\n",
       "      <td>25869.0</td>\n",
       "      <td>2074.333875</td>\n",
       "      <td>1003.998244</td>\n",
       "      <td>500.0</td>\n",
       "      <td>1600.0</td>\n",
       "      <td>1800.0</td>\n",
       "      <td>2300.0</td>\n",
       "      <td>20000.0</td>\n",
       "    </tr>\n",
       "  </tbody>\n",
       "</table>\n",
       "<p>3 rows × 40 columns</p>\n",
       "</div>"
      ],
      "text/plain": [
       "           Unnamed: 0                                                         \\\n",
       "                count          mean           std     min       25%      50%   \n",
       "fuel_type                                                                      \n",
       "diesel        14101.0  19842.621020  11521.372655     1.0   9847.00  19946.0   \n",
       "electrocar       30.0  15130.766667   9388.037923  1080.0   7803.25  15733.0   \n",
       "petrol        25869.0  20090.659786  11561.684801     0.0  10106.00  20038.0   \n",
       "\n",
       "                             priceUSD                ... mileage(kilometers)  \\\n",
       "                75%      max    count          mean  ...                 75%   \n",
       "fuel_type                                            ...                       \n",
       "diesel      29701.0  39999.0  14101.0   8546.210056  ...            350000.0   \n",
       "electrocar  21357.5  38290.0     30.0  36884.733333  ...             69250.0   \n",
       "petrol      30174.0  39998.0  25869.0   6787.997255  ...            294000.0   \n",
       "\n",
       "                      volume(cm3)                                           \\\n",
       "                  max       count         mean          std    min     25%   \n",
       "fuel_type                                                                    \n",
       "diesel      9999999.0     14101.0  2156.161123   802.675840  500.0  1900.0   \n",
       "electrocar   530000.0         0.0          NaN          NaN    NaN     NaN   \n",
       "petrol      9999999.0     25869.0  2074.333875  1003.998244  500.0  1600.0   \n",
       "\n",
       "                                     \n",
       "               50%     75%      max  \n",
       "fuel_type                            \n",
       "diesel      2000.0  2400.0  20000.0  \n",
       "electrocar     NaN     NaN      NaN  \n",
       "petrol      1800.0  2300.0  20000.0  \n",
       "\n",
       "[3 rows x 40 columns]"
      ]
     },
     "execution_count": 18,
     "metadata": {},
     "output_type": "execute_result"
    }
   ],
   "source": [
    "fuel_group = df.groupby('fuel_type')\n",
    "fuel_group.describe().head()"
   ]
  },
  {
   "cell_type": "markdown",
   "metadata": {},
   "source": [
    "As we observe that count of cars with fuel type electrocar in the dataset is 30 and the volume count for the same is zero so all the missing values in volume column is due to electrocars.we know that volume of fuel consumption for a electrocar is zero so we can replace null values with zero."
   ]
  },
  {
   "cell_type": "markdown",
   "metadata": {},
   "source": [
    "# REMOVING OUTLIERS , CATEGORICAL ENCODING , DEALING WITH MISSING VALUES"
   ]
  },
  {
   "cell_type": "markdown",
   "metadata": {},
   "source": [
    "To deal with categorical missing values we use Random Forest Classifier.\n",
    "The data preprocessing and encoding part is mentioned in random_forest_regressor file.\n",
    "The output is new dataframe with no missing values."
   ]
  },
  {
   "cell_type": "code",
   "execution_count": 21,
   "metadata": {},
   "outputs": [
    {
     "data": {
      "text/html": [
       "<div>\n",
       "<style scoped>\n",
       "    .dataframe tbody tr th:only-of-type {\n",
       "        vertical-align: middle;\n",
       "    }\n",
       "\n",
       "    .dataframe tbody tr th {\n",
       "        vertical-align: top;\n",
       "    }\n",
       "\n",
       "    .dataframe thead th {\n",
       "        text-align: right;\n",
       "    }\n",
       "</style>\n",
       "<table border=\"1\" class=\"dataframe\">\n",
       "  <thead>\n",
       "    <tr style=\"text-align: right;\">\n",
       "      <th></th>\n",
       "      <th>Unnamed: 0</th>\n",
       "      <th>make</th>\n",
       "      <th>priceUSD</th>\n",
       "      <th>year</th>\n",
       "      <th>mileage(kilometers)</th>\n",
       "      <th>volume(cm3)</th>\n",
       "      <th>segment</th>\n",
       "      <th>fuel_type_electrocar</th>\n",
       "      <th>fuel_type_petrol</th>\n",
       "      <th>transmission_mechanics</th>\n",
       "      <th>drive_unit_front-wheel drive</th>\n",
       "      <th>drive_unit_part-time four-wheel drive</th>\n",
       "      <th>drive_unit_rear drive</th>\n",
       "      <th>condition_with damage</th>\n",
       "      <th>condition_with mileage</th>\n",
       "    </tr>\n",
       "  </thead>\n",
       "  <tbody>\n",
       "    <tr>\n",
       "      <th>0</th>\n",
       "      <td>0</td>\n",
       "      <td>16</td>\n",
       "      <td>565</td>\n",
       "      <td>35</td>\n",
       "      <td>960015.0</td>\n",
       "      <td>2000</td>\n",
       "      <td>3</td>\n",
       "      <td>0</td>\n",
       "      <td>1</td>\n",
       "      <td>1</td>\n",
       "      <td>1</td>\n",
       "      <td>0</td>\n",
       "      <td>0</td>\n",
       "      <td>0</td>\n",
       "      <td>1</td>\n",
       "    </tr>\n",
       "    <tr>\n",
       "      <th>1</th>\n",
       "      <td>1</td>\n",
       "      <td>12</td>\n",
       "      <td>5550</td>\n",
       "      <td>50</td>\n",
       "      <td>172000.0</td>\n",
       "      <td>1400</td>\n",
       "      <td>7</td>\n",
       "      <td>0</td>\n",
       "      <td>0</td>\n",
       "      <td>1</td>\n",
       "      <td>1</td>\n",
       "      <td>0</td>\n",
       "      <td>0</td>\n",
       "      <td>0</td>\n",
       "      <td>1</td>\n",
       "    </tr>\n",
       "    <tr>\n",
       "      <th>2</th>\n",
       "      <td>2</td>\n",
       "      <td>33</td>\n",
       "      <td>8300</td>\n",
       "      <td>50</td>\n",
       "      <td>223000.0</td>\n",
       "      <td>2500</td>\n",
       "      <td>3</td>\n",
       "      <td>0</td>\n",
       "      <td>1</td>\n",
       "      <td>0</td>\n",
       "      <td>1</td>\n",
       "      <td>0</td>\n",
       "      <td>0</td>\n",
       "      <td>0</td>\n",
       "      <td>1</td>\n",
       "    </tr>\n",
       "    <tr>\n",
       "      <th>3</th>\n",
       "      <td>3</td>\n",
       "      <td>48</td>\n",
       "      <td>3300</td>\n",
       "      <td>47</td>\n",
       "      <td>140000.0</td>\n",
       "      <td>1200</td>\n",
       "      <td>0</td>\n",
       "      <td>0</td>\n",
       "      <td>1</td>\n",
       "      <td>1</td>\n",
       "      <td>1</td>\n",
       "      <td>0</td>\n",
       "      <td>0</td>\n",
       "      <td>0</td>\n",
       "      <td>1</td>\n",
       "    </tr>\n",
       "    <tr>\n",
       "      <th>4</th>\n",
       "      <td>4</td>\n",
       "      <td>33</td>\n",
       "      <td>2450</td>\n",
       "      <td>44</td>\n",
       "      <td>413000.0</td>\n",
       "      <td>2200</td>\n",
       "      <td>3</td>\n",
       "      <td>0</td>\n",
       "      <td>0</td>\n",
       "      <td>1</td>\n",
       "      <td>1</td>\n",
       "      <td>0</td>\n",
       "      <td>0</td>\n",
       "      <td>1</td>\n",
       "      <td>0</td>\n",
       "    </tr>\n",
       "  </tbody>\n",
       "</table>\n",
       "</div>"
      ],
      "text/plain": [
       "   Unnamed: 0  make  priceUSD  year  mileage(kilometers)  volume(cm3)  \\\n",
       "0           0    16       565    35             960015.0         2000   \n",
       "1           1    12      5550    50             172000.0         1400   \n",
       "2           2    33      8300    50             223000.0         2500   \n",
       "3           3    48      3300    47             140000.0         1200   \n",
       "4           4    33      2450    44             413000.0         2200   \n",
       "\n",
       "   segment  fuel_type_electrocar  fuel_type_petrol  transmission_mechanics  \\\n",
       "0        3                     0                 1                       1   \n",
       "1        7                     0                 0                       1   \n",
       "2        3                     0                 1                       0   \n",
       "3        0                     0                 1                       1   \n",
       "4        3                     0                 0                       1   \n",
       "\n",
       "   drive_unit_front-wheel drive  drive_unit_part-time four-wheel drive  \\\n",
       "0                             1                                      0   \n",
       "1                             1                                      0   \n",
       "2                             1                                      0   \n",
       "3                             1                                      0   \n",
       "4                             1                                      0   \n",
       "\n",
       "   drive_unit_rear drive  condition_with damage  condition_with mileage  \n",
       "0                      0                      0                       1  \n",
       "1                      0                      0                       1  \n",
       "2                      0                      0                       1  \n",
       "3                      0                      0                       1  \n",
       "4                      0                      1                       0  "
      ]
     },
     "execution_count": 21,
     "metadata": {},
     "output_type": "execute_result"
    }
   ],
   "source": [
    "new_df= pd.read_csv('new.csv')\n",
    "new_df.head()"
   ]
  },
  {
   "cell_type": "code",
   "execution_count": 22,
   "metadata": {},
   "outputs": [
    {
     "data": {
      "text/plain": [
       "(38097, 15)"
      ]
     },
     "execution_count": 22,
     "metadata": {},
     "output_type": "execute_result"
    }
   ],
   "source": [
    "new_df.shape"
   ]
  },
  {
   "cell_type": "code",
   "execution_count": 23,
   "metadata": {},
   "outputs": [
    {
     "data": {
      "text/plain": [
       "Unnamed: 0                               0\n",
       "make                                     0\n",
       "priceUSD                                 0\n",
       "year                                     0\n",
       "mileage(kilometers)                      0\n",
       "volume(cm3)                              0\n",
       "segment                                  0\n",
       "fuel_type_electrocar                     0\n",
       "fuel_type_petrol                         0\n",
       "transmission_mechanics                   0\n",
       "drive_unit_front-wheel drive             0\n",
       "drive_unit_part-time four-wheel drive    0\n",
       "drive_unit_rear drive                    0\n",
       "condition_with damage                    0\n",
       "condition_with mileage                   0\n",
       "dtype: int64"
      ]
     },
     "execution_count": 23,
     "metadata": {},
     "output_type": "execute_result"
    }
   ],
   "source": [
    "new_df.isnull().sum()"
   ]
  },
  {
   "cell_type": "code",
   "execution_count": 24,
   "metadata": {},
   "outputs": [
    {
     "data": {
      "text/html": [
       "<div>\n",
       "<style scoped>\n",
       "    .dataframe tbody tr th:only-of-type {\n",
       "        vertical-align: middle;\n",
       "    }\n",
       "\n",
       "    .dataframe tbody tr th {\n",
       "        vertical-align: top;\n",
       "    }\n",
       "\n",
       "    .dataframe thead th {\n",
       "        text-align: right;\n",
       "    }\n",
       "</style>\n",
       "<table border=\"1\" class=\"dataframe\">\n",
       "  <thead>\n",
       "    <tr style=\"text-align: right;\">\n",
       "      <th></th>\n",
       "      <th>Unnamed: 0</th>\n",
       "      <th>make</th>\n",
       "      <th>priceUSD</th>\n",
       "      <th>year</th>\n",
       "      <th>mileage(kilometers)</th>\n",
       "      <th>volume(cm3)</th>\n",
       "      <th>segment</th>\n",
       "      <th>fuel_type_electrocar</th>\n",
       "      <th>fuel_type_petrol</th>\n",
       "      <th>transmission_mechanics</th>\n",
       "      <th>drive_unit_front-wheel drive</th>\n",
       "      <th>drive_unit_part-time four-wheel drive</th>\n",
       "      <th>drive_unit_rear drive</th>\n",
       "      <th>condition_with damage</th>\n",
       "      <th>condition_with mileage</th>\n",
       "    </tr>\n",
       "  </thead>\n",
       "  <tbody>\n",
       "    <tr>\n",
       "      <th>Unnamed: 0</th>\n",
       "      <td>1.000000</td>\n",
       "      <td>0.003321</td>\n",
       "      <td>0.006184</td>\n",
       "      <td>0.002525</td>\n",
       "      <td>-0.006569</td>\n",
       "      <td>0.004443</td>\n",
       "      <td>0.002999</td>\n",
       "      <td>-0.011950</td>\n",
       "      <td>0.010099</td>\n",
       "      <td>-0.006304</td>\n",
       "      <td>-0.004166</td>\n",
       "      <td>0.005356</td>\n",
       "      <td>0.002649</td>\n",
       "      <td>-0.005634</td>\n",
       "      <td>0.018368</td>\n",
       "    </tr>\n",
       "    <tr>\n",
       "      <th>make</th>\n",
       "      <td>0.003321</td>\n",
       "      <td>1.000000</td>\n",
       "      <td>0.005410</td>\n",
       "      <td>0.082970</td>\n",
       "      <td>-0.017318</td>\n",
       "      <td>-0.123932</td>\n",
       "      <td>-0.054515</td>\n",
       "      <td>0.035555</td>\n",
       "      <td>-0.060065</td>\n",
       "      <td>0.116046</td>\n",
       "      <td>0.198503</td>\n",
       "      <td>0.037890</td>\n",
       "      <td>-0.199139</td>\n",
       "      <td>-0.002732</td>\n",
       "      <td>0.004231</td>\n",
       "    </tr>\n",
       "    <tr>\n",
       "      <th>priceUSD</th>\n",
       "      <td>0.006184</td>\n",
       "      <td>0.005410</td>\n",
       "      <td>1.000000</td>\n",
       "      <td>0.669723</td>\n",
       "      <td>-0.174527</td>\n",
       "      <td>0.232790</td>\n",
       "      <td>0.317311</td>\n",
       "      <td>0.130729</td>\n",
       "      <td>-0.109771</td>\n",
       "      <td>-0.467338</td>\n",
       "      <td>-0.301753</td>\n",
       "      <td>0.177010</td>\n",
       "      <td>-0.019840</td>\n",
       "      <td>-0.055148</td>\n",
       "      <td>0.099115</td>\n",
       "    </tr>\n",
       "    <tr>\n",
       "      <th>year</th>\n",
       "      <td>0.002525</td>\n",
       "      <td>0.082970</td>\n",
       "      <td>0.669723</td>\n",
       "      <td>1.000000</td>\n",
       "      <td>-0.233171</td>\n",
       "      <td>0.008466</td>\n",
       "      <td>0.102874</td>\n",
       "      <td>0.045272</td>\n",
       "      <td>-0.054001</td>\n",
       "      <td>-0.380739</td>\n",
       "      <td>-0.017300</td>\n",
       "      <td>0.112059</td>\n",
       "      <td>-0.200656</td>\n",
       "      <td>-0.037500</td>\n",
       "      <td>0.109318</td>\n",
       "    </tr>\n",
       "    <tr>\n",
       "      <th>mileage(kilometers)</th>\n",
       "      <td>-0.006569</td>\n",
       "      <td>-0.017318</td>\n",
       "      <td>-0.174527</td>\n",
       "      <td>-0.233171</td>\n",
       "      <td>1.000000</td>\n",
       "      <td>0.024207</td>\n",
       "      <td>0.014413</td>\n",
       "      <td>-0.014405</td>\n",
       "      <td>-0.091908</td>\n",
       "      <td>0.097120</td>\n",
       "      <td>0.014247</td>\n",
       "      <td>-0.047683</td>\n",
       "      <td>0.052288</td>\n",
       "      <td>0.002577</td>\n",
       "      <td>-0.031920</td>\n",
       "    </tr>\n",
       "    <tr>\n",
       "      <th>volume(cm3)</th>\n",
       "      <td>0.004443</td>\n",
       "      <td>-0.123932</td>\n",
       "      <td>0.232790</td>\n",
       "      <td>0.008466</td>\n",
       "      <td>0.024207</td>\n",
       "      <td>1.000000</td>\n",
       "      <td>0.361921</td>\n",
       "      <td>-0.062505</td>\n",
       "      <td>-0.036081</td>\n",
       "      <td>-0.340895</td>\n",
       "      <td>-0.414391</td>\n",
       "      <td>0.158681</td>\n",
       "      <td>0.162481</td>\n",
       "      <td>-0.006671</td>\n",
       "      <td>0.021361</td>\n",
       "    </tr>\n",
       "    <tr>\n",
       "      <th>segment</th>\n",
       "      <td>0.002999</td>\n",
       "      <td>-0.054515</td>\n",
       "      <td>0.317311</td>\n",
       "      <td>0.102874</td>\n",
       "      <td>0.014413</td>\n",
       "      <td>0.361921</td>\n",
       "      <td>1.000000</td>\n",
       "      <td>-0.001047</td>\n",
       "      <td>-0.195951</td>\n",
       "      <td>-0.242946</td>\n",
       "      <td>-0.360209</td>\n",
       "      <td>0.272061</td>\n",
       "      <td>0.041556</td>\n",
       "      <td>-0.017980</td>\n",
       "      <td>0.047083</td>\n",
       "    </tr>\n",
       "    <tr>\n",
       "      <th>fuel_type_electrocar</th>\n",
       "      <td>-0.011950</td>\n",
       "      <td>0.035555</td>\n",
       "      <td>0.130729</td>\n",
       "      <td>0.045272</td>\n",
       "      <td>-0.014405</td>\n",
       "      <td>-0.062505</td>\n",
       "      <td>-0.001047</td>\n",
       "      <td>1.000000</td>\n",
       "      <td>-0.037449</td>\n",
       "      <td>-0.035376</td>\n",
       "      <td>-0.007512</td>\n",
       "      <td>0.000334</td>\n",
       "      <td>0.003912</td>\n",
       "      <td>-0.002524</td>\n",
       "      <td>0.003518</td>\n",
       "    </tr>\n",
       "    <tr>\n",
       "      <th>fuel_type_petrol</th>\n",
       "      <td>0.010099</td>\n",
       "      <td>-0.060065</td>\n",
       "      <td>-0.109771</td>\n",
       "      <td>-0.054001</td>\n",
       "      <td>-0.091908</td>\n",
       "      <td>-0.036081</td>\n",
       "      <td>-0.195951</td>\n",
       "      <td>-0.037449</td>\n",
       "      <td>1.000000</td>\n",
       "      <td>-0.111398</td>\n",
       "      <td>0.021751</td>\n",
       "      <td>-0.022459</td>\n",
       "      <td>-0.016170</td>\n",
       "      <td>0.020137</td>\n",
       "      <td>-0.031274</td>\n",
       "    </tr>\n",
       "    <tr>\n",
       "      <th>transmission_mechanics</th>\n",
       "      <td>-0.006304</td>\n",
       "      <td>0.116046</td>\n",
       "      <td>-0.467338</td>\n",
       "      <td>-0.380739</td>\n",
       "      <td>0.097120</td>\n",
       "      <td>-0.340895</td>\n",
       "      <td>-0.242946</td>\n",
       "      <td>-0.035376</td>\n",
       "      <td>-0.111398</td>\n",
       "      <td>1.000000</td>\n",
       "      <td>0.382107</td>\n",
       "      <td>-0.153330</td>\n",
       "      <td>-0.096783</td>\n",
       "      <td>0.017893</td>\n",
       "      <td>-0.049913</td>\n",
       "    </tr>\n",
       "    <tr>\n",
       "      <th>drive_unit_front-wheel drive</th>\n",
       "      <td>-0.004166</td>\n",
       "      <td>0.198503</td>\n",
       "      <td>-0.301753</td>\n",
       "      <td>-0.017300</td>\n",
       "      <td>0.014247</td>\n",
       "      <td>-0.414391</td>\n",
       "      <td>-0.360209</td>\n",
       "      <td>-0.007512</td>\n",
       "      <td>0.021751</td>\n",
       "      <td>0.382107</td>\n",
       "      <td>1.000000</td>\n",
       "      <td>-0.415552</td>\n",
       "      <td>-0.592295</td>\n",
       "      <td>0.005561</td>\n",
       "      <td>-0.018337</td>\n",
       "    </tr>\n",
       "    <tr>\n",
       "      <th>drive_unit_part-time four-wheel drive</th>\n",
       "      <td>0.005356</td>\n",
       "      <td>0.037890</td>\n",
       "      <td>0.177010</td>\n",
       "      <td>0.112059</td>\n",
       "      <td>-0.047683</td>\n",
       "      <td>0.158681</td>\n",
       "      <td>0.272061</td>\n",
       "      <td>0.000334</td>\n",
       "      <td>-0.022459</td>\n",
       "      <td>-0.153330</td>\n",
       "      <td>-0.415552</td>\n",
       "      <td>1.000000</td>\n",
       "      <td>-0.100658</td>\n",
       "      <td>-0.000985</td>\n",
       "      <td>0.013635</td>\n",
       "    </tr>\n",
       "    <tr>\n",
       "      <th>drive_unit_rear drive</th>\n",
       "      <td>0.002649</td>\n",
       "      <td>-0.199139</td>\n",
       "      <td>-0.019840</td>\n",
       "      <td>-0.200656</td>\n",
       "      <td>0.052288</td>\n",
       "      <td>0.162481</td>\n",
       "      <td>0.041556</td>\n",
       "      <td>0.003912</td>\n",
       "      <td>-0.016170</td>\n",
       "      <td>-0.096783</td>\n",
       "      <td>-0.592295</td>\n",
       "      <td>-0.100658</td>\n",
       "      <td>1.000000</td>\n",
       "      <td>0.002928</td>\n",
       "      <td>-0.007954</td>\n",
       "    </tr>\n",
       "    <tr>\n",
       "      <th>condition_with damage</th>\n",
       "      <td>-0.005634</td>\n",
       "      <td>-0.002732</td>\n",
       "      <td>-0.055148</td>\n",
       "      <td>-0.037500</td>\n",
       "      <td>0.002577</td>\n",
       "      <td>-0.006671</td>\n",
       "      <td>-0.017980</td>\n",
       "      <td>-0.002524</td>\n",
       "      <td>0.020137</td>\n",
       "      <td>0.017893</td>\n",
       "      <td>0.005561</td>\n",
       "      <td>-0.000985</td>\n",
       "      <td>0.002928</td>\n",
       "      <td>1.000000</td>\n",
       "      <td>-0.717537</td>\n",
       "    </tr>\n",
       "    <tr>\n",
       "      <th>condition_with mileage</th>\n",
       "      <td>0.018368</td>\n",
       "      <td>0.004231</td>\n",
       "      <td>0.099115</td>\n",
       "      <td>0.109318</td>\n",
       "      <td>-0.031920</td>\n",
       "      <td>0.021361</td>\n",
       "      <td>0.047083</td>\n",
       "      <td>0.003518</td>\n",
       "      <td>-0.031274</td>\n",
       "      <td>-0.049913</td>\n",
       "      <td>-0.018337</td>\n",
       "      <td>0.013635</td>\n",
       "      <td>-0.007954</td>\n",
       "      <td>-0.717537</td>\n",
       "      <td>1.000000</td>\n",
       "    </tr>\n",
       "  </tbody>\n",
       "</table>\n",
       "</div>"
      ],
      "text/plain": [
       "                                       Unnamed: 0      make  priceUSD  \\\n",
       "Unnamed: 0                               1.000000  0.003321  0.006184   \n",
       "make                                     0.003321  1.000000  0.005410   \n",
       "priceUSD                                 0.006184  0.005410  1.000000   \n",
       "year                                     0.002525  0.082970  0.669723   \n",
       "mileage(kilometers)                     -0.006569 -0.017318 -0.174527   \n",
       "volume(cm3)                              0.004443 -0.123932  0.232790   \n",
       "segment                                  0.002999 -0.054515  0.317311   \n",
       "fuel_type_electrocar                    -0.011950  0.035555  0.130729   \n",
       "fuel_type_petrol                         0.010099 -0.060065 -0.109771   \n",
       "transmission_mechanics                  -0.006304  0.116046 -0.467338   \n",
       "drive_unit_front-wheel drive            -0.004166  0.198503 -0.301753   \n",
       "drive_unit_part-time four-wheel drive    0.005356  0.037890  0.177010   \n",
       "drive_unit_rear drive                    0.002649 -0.199139 -0.019840   \n",
       "condition_with damage                   -0.005634 -0.002732 -0.055148   \n",
       "condition_with mileage                   0.018368  0.004231  0.099115   \n",
       "\n",
       "                                           year  mileage(kilometers)  \\\n",
       "Unnamed: 0                             0.002525            -0.006569   \n",
       "make                                   0.082970            -0.017318   \n",
       "priceUSD                               0.669723            -0.174527   \n",
       "year                                   1.000000            -0.233171   \n",
       "mileage(kilometers)                   -0.233171             1.000000   \n",
       "volume(cm3)                            0.008466             0.024207   \n",
       "segment                                0.102874             0.014413   \n",
       "fuel_type_electrocar                   0.045272            -0.014405   \n",
       "fuel_type_petrol                      -0.054001            -0.091908   \n",
       "transmission_mechanics                -0.380739             0.097120   \n",
       "drive_unit_front-wheel drive          -0.017300             0.014247   \n",
       "drive_unit_part-time four-wheel drive  0.112059            -0.047683   \n",
       "drive_unit_rear drive                 -0.200656             0.052288   \n",
       "condition_with damage                 -0.037500             0.002577   \n",
       "condition_with mileage                 0.109318            -0.031920   \n",
       "\n",
       "                                       volume(cm3)   segment  \\\n",
       "Unnamed: 0                                0.004443  0.002999   \n",
       "make                                     -0.123932 -0.054515   \n",
       "priceUSD                                  0.232790  0.317311   \n",
       "year                                      0.008466  0.102874   \n",
       "mileage(kilometers)                       0.024207  0.014413   \n",
       "volume(cm3)                               1.000000  0.361921   \n",
       "segment                                   0.361921  1.000000   \n",
       "fuel_type_electrocar                     -0.062505 -0.001047   \n",
       "fuel_type_petrol                         -0.036081 -0.195951   \n",
       "transmission_mechanics                   -0.340895 -0.242946   \n",
       "drive_unit_front-wheel drive             -0.414391 -0.360209   \n",
       "drive_unit_part-time four-wheel drive     0.158681  0.272061   \n",
       "drive_unit_rear drive                     0.162481  0.041556   \n",
       "condition_with damage                    -0.006671 -0.017980   \n",
       "condition_with mileage                    0.021361  0.047083   \n",
       "\n",
       "                                       fuel_type_electrocar  fuel_type_petrol  \\\n",
       "Unnamed: 0                                        -0.011950          0.010099   \n",
       "make                                               0.035555         -0.060065   \n",
       "priceUSD                                           0.130729         -0.109771   \n",
       "year                                               0.045272         -0.054001   \n",
       "mileage(kilometers)                               -0.014405         -0.091908   \n",
       "volume(cm3)                                       -0.062505         -0.036081   \n",
       "segment                                           -0.001047         -0.195951   \n",
       "fuel_type_electrocar                               1.000000         -0.037449   \n",
       "fuel_type_petrol                                  -0.037449          1.000000   \n",
       "transmission_mechanics                            -0.035376         -0.111398   \n",
       "drive_unit_front-wheel drive                      -0.007512          0.021751   \n",
       "drive_unit_part-time four-wheel drive              0.000334         -0.022459   \n",
       "drive_unit_rear drive                              0.003912         -0.016170   \n",
       "condition_with damage                             -0.002524          0.020137   \n",
       "condition_with mileage                             0.003518         -0.031274   \n",
       "\n",
       "                                       transmission_mechanics  \\\n",
       "Unnamed: 0                                          -0.006304   \n",
       "make                                                 0.116046   \n",
       "priceUSD                                            -0.467338   \n",
       "year                                                -0.380739   \n",
       "mileage(kilometers)                                  0.097120   \n",
       "volume(cm3)                                         -0.340895   \n",
       "segment                                             -0.242946   \n",
       "fuel_type_electrocar                                -0.035376   \n",
       "fuel_type_petrol                                    -0.111398   \n",
       "transmission_mechanics                               1.000000   \n",
       "drive_unit_front-wheel drive                         0.382107   \n",
       "drive_unit_part-time four-wheel drive               -0.153330   \n",
       "drive_unit_rear drive                               -0.096783   \n",
       "condition_with damage                                0.017893   \n",
       "condition_with mileage                              -0.049913   \n",
       "\n",
       "                                       drive_unit_front-wheel drive  \\\n",
       "Unnamed: 0                                                -0.004166   \n",
       "make                                                       0.198503   \n",
       "priceUSD                                                  -0.301753   \n",
       "year                                                      -0.017300   \n",
       "mileage(kilometers)                                        0.014247   \n",
       "volume(cm3)                                               -0.414391   \n",
       "segment                                                   -0.360209   \n",
       "fuel_type_electrocar                                      -0.007512   \n",
       "fuel_type_petrol                                           0.021751   \n",
       "transmission_mechanics                                     0.382107   \n",
       "drive_unit_front-wheel drive                               1.000000   \n",
       "drive_unit_part-time four-wheel drive                     -0.415552   \n",
       "drive_unit_rear drive                                     -0.592295   \n",
       "condition_with damage                                      0.005561   \n",
       "condition_with mileage                                    -0.018337   \n",
       "\n",
       "                                       drive_unit_part-time four-wheel drive  \\\n",
       "Unnamed: 0                                                          0.005356   \n",
       "make                                                                0.037890   \n",
       "priceUSD                                                            0.177010   \n",
       "year                                                                0.112059   \n",
       "mileage(kilometers)                                                -0.047683   \n",
       "volume(cm3)                                                         0.158681   \n",
       "segment                                                             0.272061   \n",
       "fuel_type_electrocar                                                0.000334   \n",
       "fuel_type_petrol                                                   -0.022459   \n",
       "transmission_mechanics                                             -0.153330   \n",
       "drive_unit_front-wheel drive                                       -0.415552   \n",
       "drive_unit_part-time four-wheel drive                               1.000000   \n",
       "drive_unit_rear drive                                              -0.100658   \n",
       "condition_with damage                                              -0.000985   \n",
       "condition_with mileage                                              0.013635   \n",
       "\n",
       "                                       drive_unit_rear drive  \\\n",
       "Unnamed: 0                                          0.002649   \n",
       "make                                               -0.199139   \n",
       "priceUSD                                           -0.019840   \n",
       "year                                               -0.200656   \n",
       "mileage(kilometers)                                 0.052288   \n",
       "volume(cm3)                                         0.162481   \n",
       "segment                                             0.041556   \n",
       "fuel_type_electrocar                                0.003912   \n",
       "fuel_type_petrol                                   -0.016170   \n",
       "transmission_mechanics                             -0.096783   \n",
       "drive_unit_front-wheel drive                       -0.592295   \n",
       "drive_unit_part-time four-wheel drive              -0.100658   \n",
       "drive_unit_rear drive                               1.000000   \n",
       "condition_with damage                               0.002928   \n",
       "condition_with mileage                             -0.007954   \n",
       "\n",
       "                                       condition_with damage  \\\n",
       "Unnamed: 0                                         -0.005634   \n",
       "make                                               -0.002732   \n",
       "priceUSD                                           -0.055148   \n",
       "year                                               -0.037500   \n",
       "mileage(kilometers)                                 0.002577   \n",
       "volume(cm3)                                        -0.006671   \n",
       "segment                                            -0.017980   \n",
       "fuel_type_electrocar                               -0.002524   \n",
       "fuel_type_petrol                                    0.020137   \n",
       "transmission_mechanics                              0.017893   \n",
       "drive_unit_front-wheel drive                        0.005561   \n",
       "drive_unit_part-time four-wheel drive              -0.000985   \n",
       "drive_unit_rear drive                               0.002928   \n",
       "condition_with damage                               1.000000   \n",
       "condition_with mileage                             -0.717537   \n",
       "\n",
       "                                       condition_with mileage  \n",
       "Unnamed: 0                                           0.018368  \n",
       "make                                                 0.004231  \n",
       "priceUSD                                             0.099115  \n",
       "year                                                 0.109318  \n",
       "mileage(kilometers)                                 -0.031920  \n",
       "volume(cm3)                                          0.021361  \n",
       "segment                                              0.047083  \n",
       "fuel_type_electrocar                                 0.003518  \n",
       "fuel_type_petrol                                    -0.031274  \n",
       "transmission_mechanics                              -0.049913  \n",
       "drive_unit_front-wheel drive                        -0.018337  \n",
       "drive_unit_part-time four-wheel drive                0.013635  \n",
       "drive_unit_rear drive                               -0.007954  \n",
       "condition_with damage                               -0.717537  \n",
       "condition_with mileage                               1.000000  "
      ]
     },
     "execution_count": 24,
     "metadata": {},
     "output_type": "execute_result"
    }
   ],
   "source": [
    "corr = new_df.corr()\n",
    "corr"
   ]
  },
  {
   "cell_type": "markdown",
   "metadata": {},
   "source": [
    "Let us visualise the correlation matrix and drop the attributes with weak correlation with the target attribute."
   ]
  },
  {
   "cell_type": "code",
   "execution_count": 25,
   "metadata": {},
   "outputs": [
    {
     "data": {
      "image/png": "[encoded data removed]",
      "text/plain": [
       "<Figure size 432x288 with 2 Axes>"
      ]
     },
     "metadata": {
      "needs_background": "light"
     },
     "output_type": "display_data"
    }
   ],
   "source": [
    "import seaborn as sns\n",
    "corr = new_df.corr()\n",
    "ax = sns.heatmap(\n",
    "    corr, \n",
    "    vmin=-1, vmax=1, center=0,\n",
    "    cmap=sns.diverging_palette(20, 220, n=200),\n",
    "    square=True\n",
    ")\n",
    "ax.set_xticklabels(\n",
    "    ax.get_xticklabels(),\n",
    "    rotation=45,\n",
    "    horizontalalignment='right'\n",
    ");"
   ]
  },
  {
   "cell_type": "markdown",
   "metadata": {},
   "source": [
    "Here dark blue cells indicate strong positive correlation while dark red ones indicate strong negative correlation."
   ]
  },
  {
   "cell_type": "code",
   "execution_count": 26,
   "metadata": {},
   "outputs": [],
   "source": [
    "#drop weak correlations\n",
    "new_df.drop('Unnamed: 0', inplace = True, axis = 1)\n",
    "new_df.drop('make', inplace = True, axis = 1)\n",
    "new_df.drop('condition_with damage', inplace = True, axis = 1)\n",
    "new_df.drop('condition_with mileage', inplace = True, axis = 1)"
   ]
  },
  {
   "cell_type": "code",
   "execution_count": 27,
   "metadata": {},
   "outputs": [
    {
     "data": {
      "text/html": [
       "<div>\n",
       "<style scoped>\n",
       "    .dataframe tbody tr th:only-of-type {\n",
       "        vertical-align: middle;\n",
       "    }\n",
       "\n",
       "    .dataframe tbody tr th {\n",
       "        vertical-align: top;\n",
       "    }\n",
       "\n",
       "    .dataframe thead th {\n",
       "        text-align: right;\n",
       "    }\n",
       "</style>\n",
       "<table border=\"1\" class=\"dataframe\">\n",
       "  <thead>\n",
       "    <tr style=\"text-align: right;\">\n",
       "      <th></th>\n",
       "      <th>priceUSD</th>\n",
       "      <th>year</th>\n",
       "      <th>mileage(kilometers)</th>\n",
       "      <th>volume(cm3)</th>\n",
       "      <th>segment</th>\n",
       "      <th>fuel_type_electrocar</th>\n",
       "      <th>fuel_type_petrol</th>\n",
       "      <th>transmission_mechanics</th>\n",
       "      <th>drive_unit_front-wheel drive</th>\n",
       "      <th>drive_unit_part-time four-wheel drive</th>\n",
       "      <th>drive_unit_rear drive</th>\n",
       "    </tr>\n",
       "  </thead>\n",
       "  <tbody>\n",
       "    <tr>\n",
       "      <th>0</th>\n",
       "      <td>565</td>\n",
       "      <td>35</td>\n",
       "      <td>960015.0</td>\n",
       "      <td>2000</td>\n",
       "      <td>3</td>\n",
       "      <td>0</td>\n",
       "      <td>1</td>\n",
       "      <td>1</td>\n",
       "      <td>1</td>\n",
       "      <td>0</td>\n",
       "      <td>0</td>\n",
       "    </tr>\n",
       "    <tr>\n",
       "      <th>1</th>\n",
       "      <td>5550</td>\n",
       "      <td>50</td>\n",
       "      <td>172000.0</td>\n",
       "      <td>1400</td>\n",
       "      <td>7</td>\n",
       "      <td>0</td>\n",
       "      <td>0</td>\n",
       "      <td>1</td>\n",
       "      <td>1</td>\n",
       "      <td>0</td>\n",
       "      <td>0</td>\n",
       "    </tr>\n",
       "    <tr>\n",
       "      <th>2</th>\n",
       "      <td>8300</td>\n",
       "      <td>50</td>\n",
       "      <td>223000.0</td>\n",
       "      <td>2500</td>\n",
       "      <td>3</td>\n",
       "      <td>0</td>\n",
       "      <td>1</td>\n",
       "      <td>0</td>\n",
       "      <td>1</td>\n",
       "      <td>0</td>\n",
       "      <td>0</td>\n",
       "    </tr>\n",
       "    <tr>\n",
       "      <th>3</th>\n",
       "      <td>3300</td>\n",
       "      <td>47</td>\n",
       "      <td>140000.0</td>\n",
       "      <td>1200</td>\n",
       "      <td>0</td>\n",
       "      <td>0</td>\n",
       "      <td>1</td>\n",
       "      <td>1</td>\n",
       "      <td>1</td>\n",
       "      <td>0</td>\n",
       "      <td>0</td>\n",
       "    </tr>\n",
       "    <tr>\n",
       "      <th>4</th>\n",
       "      <td>2450</td>\n",
       "      <td>44</td>\n",
       "      <td>413000.0</td>\n",
       "      <td>2200</td>\n",
       "      <td>3</td>\n",
       "      <td>0</td>\n",
       "      <td>0</td>\n",
       "      <td>1</td>\n",
       "      <td>1</td>\n",
       "      <td>0</td>\n",
       "      <td>0</td>\n",
       "    </tr>\n",
       "  </tbody>\n",
       "</table>\n",
       "</div>"
      ],
      "text/plain": [
       "   priceUSD  year  mileage(kilometers)  volume(cm3)  segment  \\\n",
       "0       565    35             960015.0         2000        3   \n",
       "1      5550    50             172000.0         1400        7   \n",
       "2      8300    50             223000.0         2500        3   \n",
       "3      3300    47             140000.0         1200        0   \n",
       "4      2450    44             413000.0         2200        3   \n",
       "\n",
       "   fuel_type_electrocar  fuel_type_petrol  transmission_mechanics  \\\n",
       "0                     0                 1                       1   \n",
       "1                     0                 0                       1   \n",
       "2                     0                 1                       0   \n",
       "3                     0                 1                       1   \n",
       "4                     0                 0                       1   \n",
       "\n",
       "   drive_unit_front-wheel drive  drive_unit_part-time four-wheel drive  \\\n",
       "0                             1                                      0   \n",
       "1                             1                                      0   \n",
       "2                             1                                      0   \n",
       "3                             1                                      0   \n",
       "4                             1                                      0   \n",
       "\n",
       "   drive_unit_rear drive  \n",
       "0                      0  \n",
       "1                      0  \n",
       "2                      0  \n",
       "3                      0  \n",
       "4                      0  "
      ]
     },
     "execution_count": 27,
     "metadata": {},
     "output_type": "execute_result"
    }
   ],
   "source": [
    "new_df.head()"
   ]
  },
  {
   "cell_type": "code",
   "execution_count": null,
   "metadata": {},
   "outputs": [],
   "source": []
  }
 ],
 "metadata": {
  "kernelspec": {
   "display_name": "Python 3",
   "language": "python",
   "name": "python3"
  },
  "language_info": {
   "codemirror_mode": {
    "name": "ipython",
    "version": 3
   },
   "file_extension": ".py",
   "mimetype": "text/x-python",
   "name": "python",
   "nbconvert_exporter": "python",
   "pygments_lexer": "ipython3",
   "version": "3.8.3"
  }
 },
 "nbformat": 4,
 "nbformat_minor": 4
}
