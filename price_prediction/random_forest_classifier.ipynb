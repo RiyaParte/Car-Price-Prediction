{
 "cells": [
  {
   "cell_type": "markdown",
   "metadata": {},
   "source": [
    "# Classifier model to deal with categorical missing values"
   ]
  },
  {
   "cell_type": "code",
   "execution_count": 1,
   "metadata": {},
   "outputs": [],
   "source": [
    "import pandas as pd\n",
    "import numpy as np\n",
    "from sklearn import preprocessing\n",
    "from scipy import stats"
   ]
  },
  {
   "cell_type": "code",
   "execution_count": 2,
   "metadata": {},
   "outputs": [
    {
     "data": {
      "text/html": [
       "<div>\n",
       "<style scoped>\n",
       "    .dataframe tbody tr th:only-of-type {\n",
       "        vertical-align: middle;\n",
       "    }\n",
       "\n",
       "    .dataframe tbody tr th {\n",
       "        vertical-align: top;\n",
       "    }\n",
       "\n",
       "    .dataframe thead th {\n",
       "        text-align: right;\n",
       "    }\n",
       "</style>\n",
       "<table border=\"1\" class=\"dataframe\">\n",
       "  <thead>\n",
       "    <tr style=\"text-align: right;\">\n",
       "      <th></th>\n",
       "      <th>Unnamed: 0</th>\n",
       "      <th>make</th>\n",
       "      <th>model</th>\n",
       "      <th>priceUSD</th>\n",
       "      <th>year</th>\n",
       "      <th>condition</th>\n",
       "      <th>mileage(kilometers)</th>\n",
       "      <th>fuel_type</th>\n",
       "      <th>volume(cm3)</th>\n",
       "      <th>color</th>\n",
       "      <th>transmission</th>\n",
       "      <th>drive_unit</th>\n",
       "      <th>segment</th>\n",
       "    </tr>\n",
       "  </thead>\n",
       "  <tbody>\n",
       "    <tr>\n",
       "      <th>0</th>\n",
       "      <td>0</td>\n",
       "      <td>honda</td>\n",
       "      <td>accord</td>\n",
       "      <td>565</td>\n",
       "      <td>1993</td>\n",
       "      <td>with mileage</td>\n",
       "      <td>960015.0</td>\n",
       "      <td>petrol</td>\n",
       "      <td>2000.0</td>\n",
       "      <td>black</td>\n",
       "      <td>mechanics</td>\n",
       "      <td>front-wheel drive</td>\n",
       "      <td>D</td>\n",
       "    </tr>\n",
       "    <tr>\n",
       "      <th>1</th>\n",
       "      <td>1</td>\n",
       "      <td>ford</td>\n",
       "      <td>fusion</td>\n",
       "      <td>5550</td>\n",
       "      <td>2008</td>\n",
       "      <td>with mileage</td>\n",
       "      <td>172000.0</td>\n",
       "      <td>diesel</td>\n",
       "      <td>1400.0</td>\n",
       "      <td>silver</td>\n",
       "      <td>mechanics</td>\n",
       "      <td>front-wheel drive</td>\n",
       "      <td>M</td>\n",
       "    </tr>\n",
       "    <tr>\n",
       "      <th>2</th>\n",
       "      <td>2</td>\n",
       "      <td>nissan</td>\n",
       "      <td>teana</td>\n",
       "      <td>8300</td>\n",
       "      <td>2008</td>\n",
       "      <td>with mileage</td>\n",
       "      <td>223000.0</td>\n",
       "      <td>petrol</td>\n",
       "      <td>2500.0</td>\n",
       "      <td>purple</td>\n",
       "      <td>auto</td>\n",
       "      <td>front-wheel drive</td>\n",
       "      <td>D</td>\n",
       "    </tr>\n",
       "    <tr>\n",
       "      <th>3</th>\n",
       "      <td>3</td>\n",
       "      <td>volkswagen</td>\n",
       "      <td>fox</td>\n",
       "      <td>3300</td>\n",
       "      <td>2005</td>\n",
       "      <td>with mileage</td>\n",
       "      <td>140000.0</td>\n",
       "      <td>petrol</td>\n",
       "      <td>1200.0</td>\n",
       "      <td>blue</td>\n",
       "      <td>mechanics</td>\n",
       "      <td>front-wheel drive</td>\n",
       "      <td>A</td>\n",
       "    </tr>\n",
       "    <tr>\n",
       "      <th>4</th>\n",
       "      <td>4</td>\n",
       "      <td>nissan</td>\n",
       "      <td>primera</td>\n",
       "      <td>2450</td>\n",
       "      <td>2002</td>\n",
       "      <td>with damage</td>\n",
       "      <td>413000.0</td>\n",
       "      <td>diesel</td>\n",
       "      <td>2200.0</td>\n",
       "      <td>burgundy</td>\n",
       "      <td>mechanics</td>\n",
       "      <td>front-wheel drive</td>\n",
       "      <td>D</td>\n",
       "    </tr>\n",
       "  </tbody>\n",
       "</table>\n",
       "</div>"
      ],
      "text/plain": [
       "   Unnamed: 0        make    model  priceUSD  year     condition  \\\n",
       "0           0       honda   accord       565  1993  with mileage   \n",
       "1           1        ford   fusion      5550  2008  with mileage   \n",
       "2           2      nissan    teana      8300  2008  with mileage   \n",
       "3           3  volkswagen      fox      3300  2005  with mileage   \n",
       "4           4      nissan  primera      2450  2002   with damage   \n",
       "\n",
       "   mileage(kilometers) fuel_type  volume(cm3)     color transmission  \\\n",
       "0             960015.0    petrol       2000.0     black    mechanics   \n",
       "1             172000.0    diesel       1400.0    silver    mechanics   \n",
       "2             223000.0    petrol       2500.0    purple         auto   \n",
       "3             140000.0    petrol       1200.0      blue    mechanics   \n",
       "4             413000.0    diesel       2200.0  burgundy    mechanics   \n",
       "\n",
       "          drive_unit segment  \n",
       "0  front-wheel drive       D  \n",
       "1  front-wheel drive       M  \n",
       "2  front-wheel drive       D  \n",
       "3  front-wheel drive       A  \n",
       "4  front-wheel drive       D  "
      ]
     },
     "execution_count": 2,
     "metadata": {},
     "output_type": "execute_result"
    }
   ],
   "source": [
    "#Loading the dataset\n",
    "df = pd.read_csv('cars_price.csv')\n",
    "df['volume(cm3)'] = df['volume(cm3)'].fillna(0)\n",
    "df.head()"
   ]
  },
  {
   "cell_type": "code",
   "execution_count": 3,
   "metadata": {},
   "outputs": [
    {
     "data": {
      "text/plain": [
       "(3636, 13)"
      ]
     },
     "execution_count": 3,
     "metadata": {},
     "output_type": "execute_result"
    }
   ],
   "source": [
    "test = df[df.isnull().any(axis=1)]\n",
    "test = test.dropna(axis=0, how='any', thresh=None, subset=['drive_unit'], inplace=False)\n",
    "test.shape"
   ]
  },
  {
   "cell_type": "code",
   "execution_count": 4,
   "metadata": {},
   "outputs": [],
   "source": [
    "#dropping null values to create training data\n",
    "train = df.dropna(axis=0, how='any', thresh=None, subset=None, inplace=False)"
   ]
  },
  {
   "cell_type": "code",
   "execution_count": 5,
   "metadata": {},
   "outputs": [
    {
     "name": "stderr",
     "output_type": "stream",
     "text": [
      "C:\\Users\\parte\\anaconda3\\lib\\site-packages\\pandas\\core\\frame.py:3990: SettingWithCopyWarning: \n",
      "A value is trying to be set on a copy of a slice from a DataFrame\n",
      "\n",
      "See the caveats in the documentation: https://pandas.pydata.org/pandas-docs/stable/user_guide/indexing.html#returning-a-view-versus-a-copy\n",
      "  return super().drop(\n"
     ]
    }
   ],
   "source": [
    "#dropping unnecessary columns\n",
    "train.drop('color', inplace = True, axis = 1)\n",
    "test.drop('color', inplace = True, axis = 1)\n",
    "#as model attribute shows a large variation and no trend we would drop it\n",
    "train.drop('model', inplace = True, axis = 1) \n",
    "test.drop('model', inplace = True, axis = 1)"
   ]
  },
  {
   "cell_type": "code",
   "execution_count": 6,
   "metadata": {},
   "outputs": [
    {
     "data": {
      "text/plain": [
       "(34461, 11)"
      ]
     },
     "execution_count": 6,
     "metadata": {},
     "output_type": "execute_result"
    }
   ],
   "source": [
    "#removing outliers\n",
    "z_scores = stats.zscore(train['priceUSD'])\n",
    "\n",
    "abs_z_scores = np.abs(z_scores)\n",
    "filtered_entries = (abs_z_scores < 3)\n",
    "train = train[filtered_entries]\n",
    "train.shape"
   ]
  },
  {
   "cell_type": "code",
   "execution_count": 7,
   "metadata": {},
   "outputs": [],
   "source": [
    "#encoding the data\n",
    "def label_encoder(attrib, data_frame):\n",
    "    label_encoder = preprocessing.LabelEncoder() \n",
    "    data_frame[attrib]= label_encoder.fit_transform(data_frame[attrib]) \n",
    "    "
   ]
  },
  {
   "cell_type": "code",
   "execution_count": 8,
   "metadata": {},
   "outputs": [],
   "source": [
    "#encoding training dataset label encoder\n",
    "label_encoder('segment', train)\n",
    "label_encoder('make', train)\n",
    "label_encoder('year', train)"
   ]
  },
  {
   "cell_type": "code",
   "execution_count": 9,
   "metadata": {},
   "outputs": [],
   "source": [
    "# encoding training dataset one hot encoder\n",
    "temp_df = pd.DataFrame({\n",
    "        'fuel_type': ['petrol', 'diesel', 'electrocar']\n",
    "    })\n",
    "train = pd.concat([train,pd.get_dummies(train['fuel_type'], prefix='fuel_type',drop_first=True)],axis=1)\n",
    "train.drop(['fuel_type'],axis=1, inplace=True)\n",
    "\n",
    "temp_df = pd.DataFrame({\n",
    "        'transmission': ['mechanics', 'auto']\n",
    "    })\n",
    "train = pd.concat([train,pd.get_dummies(train['transmission'], prefix='transmission',drop_first=True)],axis=1)\n",
    "train.drop(['transmission'],axis=1, inplace=True)\n",
    "\n",
    "temp_df = pd.DataFrame({\n",
    "        'drive_unit': ['front-wheel drive', 'part-time four-wheel drive', 'rear drive',\n",
    "       'all-wheel drive']\n",
    "    })\n",
    "train = pd.concat([train,pd.get_dummies(train['drive_unit'], prefix='drive_unit',drop_first=True)],axis=1)\n",
    "train.drop(['drive_unit'],axis=1, inplace=True)\n",
    "\n",
    "temp_df = pd.DataFrame({\n",
    "        'condition': ['with mileage', 'with damage', 'for parts']\n",
    "    })\n",
    "train = pd.concat([train,pd.get_dummies(train['condition'], prefix='condition',drop_first=True)],axis=1)\n",
    "train.drop(['condition'],axis=1, inplace=True)\n"
   ]
  },
  {
   "cell_type": "code",
   "execution_count": 10,
   "metadata": {},
   "outputs": [],
   "source": [
    "test.drop('segment', inplace = True, axis = 1)\n",
    "#encoding test dataset\n",
    "label_encoder('make',test)\n",
    "label_encoder('year', test)\n"
   ]
  },
  {
   "cell_type": "code",
   "execution_count": 11,
   "metadata": {},
   "outputs": [],
   "source": [
    "#one hot encoding\n",
    "temp_df = pd.DataFrame({\n",
    "        'fuel_type': ['petrol', 'diesel', 'electrocar']\n",
    "    })\n",
    "test = pd.concat([test,pd.get_dummies(test['fuel_type'], prefix='fuel_type',drop_first=True)],axis=1)\n",
    "test.drop(['fuel_type'],axis=1, inplace=True)\n",
    "\n",
    "temp_df = pd.DataFrame({\n",
    "        'transmission': ['mechanics', 'auto']\n",
    "    })\n",
    "test = pd.concat([test,pd.get_dummies(test['transmission'], prefix='transmission',drop_first=True)],axis=1)\n",
    "test.drop(['transmission'],axis=1, inplace=True)\n",
    "\n",
    "temp_df = pd.DataFrame({\n",
    "        'drive_unit': ['front-wheel drive', 'part-time four-wheel drive', 'rear drive',\n",
    "       'all-wheel drive']\n",
    "    })\n",
    "test = pd.concat([test,pd.get_dummies(test['drive_unit'], prefix='drive_unit',drop_first=True)],axis=1)\n",
    "test.drop(['drive_unit'],axis=1, inplace=True)\n",
    "\n",
    "temp_df = pd.DataFrame({\n",
    "        'condition': ['with mileage', 'with damage', 'for parts']\n",
    "    })\n",
    "test = pd.concat([test,pd.get_dummies(test['condition'], prefix='condition',drop_first=True)],axis=1)\n",
    "test.drop(['condition'],axis=1, inplace=True)"
   ]
  },
  {
   "cell_type": "code",
   "execution_count": 12,
   "metadata": {},
   "outputs": [
    {
     "data": {
      "text/plain": [
       "RandomForestClassifier(n_estimators=400)"
      ]
     },
     "execution_count": 12,
     "metadata": {},
     "output_type": "execute_result"
    }
   ],
   "source": [
    "#Random Forest Model \n",
    "from sklearn.model_selection import train_test_split\n",
    "X = train[['make','priceUSD','year','volume(cm3)','fuel_type_electrocar','fuel_type_petrol','transmission_mechanics','drive_unit_front-wheel drive','drive_unit_part-time four-wheel drive','drive_unit_rear drive']]\n",
    "y = train['segment']\n",
    "X_train, X_test, y_train, y_test = train_test_split(X, y, test_size = 0.25, random_state = 0)\n",
    "\n",
    "# Feature Scaling\n",
    "from sklearn.preprocessing import StandardScaler\n",
    "sc = StandardScaler()\n",
    "X_train = sc.fit_transform(X_train)\n",
    "X_test = sc.transform(X_test)\n",
    "\n",
    "from sklearn.ensemble import RandomForestClassifier\n",
    "clf=RandomForestClassifier(n_estimators=400)\n",
    "clf.fit(X_train,y_train)\n"
   ]
  },
  {
   "cell_type": "code",
   "execution_count": 13,
   "metadata": {},
   "outputs": [
    {
     "name": "stdout",
     "output_type": "stream",
     "text": [
      "Accuracy: 0.7610259981429898\n"
     ]
    }
   ],
   "source": [
    "y_pred=clf.predict(X_test)\n",
    "from sklearn import metrics\n",
    "print(\"Accuracy:\",metrics.accuracy_score(y_test, y_pred))"
   ]
  },
  {
   "cell_type": "code",
   "execution_count": 14,
   "metadata": {},
   "outputs": [],
   "source": [
    "X_missing = test[['make','priceUSD','year','volume(cm3)','fuel_type_electrocar','fuel_type_petrol','transmission_mechanics','drive_unit_front-wheel drive','drive_unit_part-time four-wheel drive','drive_unit_rear drive']]\n",
    "abc = sc.fit_transform(X_missing)\n",
    "res =clf.predict(abc)\n",
    "test.insert(6, \"segment\", res, True) "
   ]
  },
  {
   "cell_type": "code",
   "execution_count": 15,
   "metadata": {},
   "outputs": [],
   "source": [
    "frames = [train,test]\n",
    "\n",
    "result = pd.concat(frames)\n",
    "\n",
    "result.to_csv('new.csv') "
   ]
  },
  {
   "cell_type": "code",
   "execution_count": 16,
   "metadata": {},
   "outputs": [
    {
     "data": {
      "text/plain": [
       "(38097, 15)"
      ]
     },
     "execution_count": 16,
     "metadata": {},
     "output_type": "execute_result"
    }
   ],
   "source": [
    "result.shape"
   ]
  },
  {
   "cell_type": "code",
   "execution_count": null,
   "metadata": {},
   "outputs": [],
   "source": []
  }
 ],
 "metadata": {
  "kernelspec": {
   "display_name": "Python 3",
   "language": "python",
   "name": "python3"
  },
  "language_info": {
   "codemirror_mode": {
    "name": "ipython",
    "version": 3
   },
   "file_extension": ".py",
   "mimetype": "text/x-python",
   "name": "python",
   "nbconvert_exporter": "python",
   "pygments_lexer": "ipython3",
   "version": "3.8.3"
  }
 },
 "nbformat": 4,
 "nbformat_minor": 4
}
